{
 "cells": [
  {
   "cell_type": "markdown",
   "metadata": {
    "id": "sP0lkd-l6ZqH"
   },
   "source": [
    "# Jupyter Notebook\n",
    "\n",
    "This is a Jupyter Notebook, which is a basically just a super fancy Python shell.\n",
    "\n",
    "You may have \"cells\" that can either be text (like this one) or executable Python code. Notebooks are really nice because they allow you to rapidly develop Python code by writing small bits of code, testing their output, and moving on to the next bit; this interactive nature of the notebook is a huge plus to professional Python developers. \n",
    "\n",
    "It's also nice, because it's really easy to share your code with others and surround it with text to tell a story! \n",
    "\n",
    "# Colaboratory\n",
    "Colaboratory is a service provided by Google to take a Jupyter Notebook (a standard formay of a `.ipynb` file) and let users edit/run the code in the notebook for free! \n",
    "\n",
    "This notebook is write-protected so you are not able to edit the  notebook that the whole class will look at, but you are able to open up the notebook in \"playground mode\" which lets you make edits to a temporary copy of the notebook. If you want to save the changes you made to this notebook, you will have to follow the instructions when you try to save to copy the notebook to your Google Drive. \n",
    "\n",
    "# Setup\n",
    "Make sure you run the following cell before trying to run any the following cells. You do not need to understand what they are doing, it's just a way to make sure there is a file we want to use stored on the computer running this notebook.\n"
   ]
  },
  {
   "cell_type": "code",
   "execution_count": 7,
   "metadata": {},
   "outputs": [],
   "source": [
    "import pandas as pd\n",
    "\n"
   ]
  },
  {
   "cell_type": "code",
   "execution_count": 2,
   "metadata": {
    "id": "xIXl9KBOxVKE"
   },
   "outputs": [
    {
     "ename": "ModuleNotFoundError",
     "evalue": "No module named 'requests'",
     "output_type": "error",
     "traceback": [
      "\u001b[0;31m---------------------------------------------------------------------------\u001b[0m",
      "\u001b[0;31mModuleNotFoundError\u001b[0m                       Traceback (most recent call last)",
      "Cell \u001b[0;32mIn [2], line 1\u001b[0m\n\u001b[0;32m----> 1\u001b[0m \u001b[38;5;28;01mimport\u001b[39;00m \u001b[38;5;21;01mrequests\u001b[39;00m\n\u001b[1;32m      3\u001b[0m \u001b[38;5;28;01mdef\u001b[39;00m \u001b[38;5;21msave_file\u001b[39m(url, file_name):\n\u001b[1;32m      4\u001b[0m   r \u001b[38;5;241m=\u001b[39m requests\u001b[38;5;241m.\u001b[39mget(url)\n",
      "\u001b[0;31mModuleNotFoundError\u001b[0m: No module named 'requests'"
     ]
    }
   ],
   "source": [
    "import requests\n",
    "\n",
    "def save_file(url, file_name):\n",
    "  r = requests.get(url)\n",
    "  with open(file_name, 'wb') as f:\n",
    "    f.write(r.content)\n",
    "\n",
    "save_file('https://courses.cs.washington.edu/courses/cse163/19sp/' +\n",
    "          'files/lectures/04-08/bee-movie.txt', 'bee-movie.txt')\n",
    "save_file('https://courses.cs.washington.edu/courses/cse163/19sp/' +\n",
    "          'files/lectures/04-08/mobydick.txt', 'mobydick.txt')"
   ]
  },
  {
   "cell_type": "markdown",
   "metadata": {
    "id": "mvSdZA6Ml1uR"
   },
   "source": [
    "# List\n",
    "First we reviewed how to create and index into a list."
   ]
  },
  {
   "cell_type": "code",
   "execution_count": 3,
   "metadata": {
    "colab": {
     "base_uri": "https://localhost:8080/",
     "height": 51
    },
    "id": "XIjxLlhVl4X0",
    "outputId": "a9198663-e4ce-4cdc-8f38-6769932b871a"
   },
   "outputs": [
    {
     "name": "stdout",
     "output_type": "stream",
     "text": [
      "[1, 2, 3]\n",
      "2\n"
     ]
    }
   ],
   "source": [
    "l = [1, 2, 3]\n",
    "print(l)\n",
    "print(l[1])"
   ]
  },
  {
   "cell_type": "markdown",
   "metadata": {
    "id": "XLW_u3flO8Oc"
   },
   "source": [
    "It's very common that you don't want to explicitly write out all of the numbers by hand, but rather compute them in a loop. We learned that there are many methods you can call on lists\n",
    "\n",
    "Method            |  Description\n",
    "-----------------------|----------------------------\n",
    "list.append(x) | Adds x to the end\n",
    "list.extend(xs) |Adds all elements in xs at the end\n",
    "list.insert(i, x) | Inserts x at index i\n",
    "list.remove(x) | Removes the first instance of x\n",
    "list.pop([i]) | Removes the value at index i (default: last)\n",
    "list.clear() | Removes all values\n",
    "list.index(x) | Returns the index of the given value\n",
    "list.reverse() | Reverses the elements\n",
    "list.sort() | Sorts the elements\n",
    "\n",
    "And we utilized `append` to build up a list\n"
   ]
  },
  {
   "cell_type": "markdown",
   "metadata": {},
   "source": [
    "# [0,1,2,3,4,5]\n",
    "\n",
    "\n",
    "QUEUE is a data structure that leds out the order == good for keeping the order \n",
    "\n",
    "pop() -> deletes the primary one\n",
    "\n",
    "[D C B A ] --> x.pop()\n",
    "\n",
    "Remove vs pop\n",
    "\n",
    "remove: based on index\n",
    "\n",
    "We can set the primary\n",
    "\n"
   ]
  },
  {
   "cell_type": "code",
   "execution_count": 10,
   "metadata": {},
   "outputs": [],
   "source": [
    "from queue import PriorityQueue"
   ]
  },
  {
   "cell_type": "code",
   "execution_count": 24,
   "metadata": {
    "colab": {
     "base_uri": "https://localhost:8080/",
     "height": 34
    },
    "id": "E9o4I30t4L6n",
    "outputId": "3acbd189-06ce-4cdc-bd5e-eca40e2ed423"
   },
   "outputs": [
    {
     "name": "stdout",
     "output_type": "stream",
     "text": [
      "[4, 16, 36, 64, 100]\n"
     ]
    }
   ],
   "source": [
    "numbers = []\n",
    "for i in range(1, 11):\n",
    "  if i % 2 == 0:\n",
    "    numbers.append(i ** 2)\n",
    "  \n",
    "print(numbers)"
   ]
  },
  {
   "cell_type": "markdown",
   "metadata": {
    "id": "weuvgaymQFE4"
   },
   "source": [
    "This pattern of \n",
    "1. Looping over a sequence\n",
    "2. Potentially filtering out certain values\n",
    "3. Making some computation with the loop variable\n",
    "4. Putting this computed value in a list\n",
    "\n",
    "Is so common, Python provides nice syntax called a list comprehension to do these components in one line."
   ]
  },
  {
   "cell_type": "code",
   "execution_count": 35,
   "metadata": {
    "colab": {
     "base_uri": "https://localhost:8080/",
     "height": 34
    },
    "id": "7DF4E_165JXn",
    "outputId": "fdfa7413-181b-49cf-8d83-43b24a92f291"
   },
   "outputs": [
    {
     "name": "stdout",
     "output_type": "stream",
     "text": [
      "[4, 16, 36, 64, 100]\n"
     ]
    }
   ],
   "source": [
    "even_squares = [i ** 2 for i in range(1, 11) if i % 2 == 0]\n",
    "print(even_squares)"
   ]
  },
  {
   "cell_type": "code",
   "execution_count": 38,
   "metadata": {},
   "outputs": [
    {
     "data": {
      "text/plain": [
       "[1, 4, 27, 16, 125, 36, 343, 64, 729, 100]"
      ]
     },
     "execution_count": 38,
     "metadata": {},
     "output_type": "execute_result"
    }
   ],
   "source": [
    "#[x + 1 if x >= 45 else x+5 for x in xs]\n",
    "\n",
    "\n",
    "[i ** 2 if i % 2 == 0 else i ** 3 for i in range(1,11)]"
   ]
  },
  {
   "cell_type": "code",
   "execution_count": 27,
   "metadata": {},
   "outputs": [
    {
     "name": "stdout",
     "output_type": "stream",
     "text": [
      "[4, 16, 36, 64, 100]\n"
     ]
    }
   ],
   "source": [
    "even_square = []\n",
    "for i in range(1,11):\n",
    "    i = i**2\n",
    "    if i % 2 == 0:\n",
    "        even_square.append(i)\n",
    "print(even_square)\n",
    "        "
   ]
  },
  {
   "cell_type": "markdown",
   "metadata": {
    "id": "PIyoufNyRQpn"
   },
   "source": [
    "You can use the \"in\" keyword to see if a value is in a structure like below"
   ]
  },
  {
   "cell_type": "code",
   "execution_count": 34,
   "metadata": {
    "colab": {
     "base_uri": "https://localhost:8080/",
     "height": 34
    },
    "id": "gcN1v0FJ61_D",
    "outputId": "714569b9-ced8-4af0-80e1-abe095283439"
   },
   "outputs": [
    {
     "name": "stdout",
     "output_type": "stream",
     "text": [
      "Found it!\n",
      "\n",
      "True\n"
     ]
    }
   ],
   "source": [
    "if 64 in even_squares:\n",
    "  print('Found it!')\n",
    "\n",
    "print(\"\\n\"+ str(64 in even_squares))"
   ]
  },
  {
   "cell_type": "markdown",
   "metadata": {
    "id": "5eeaO41Ll-H1"
   },
   "source": [
    "# Text Data Analysis"
   ]
  },
  {
   "cell_type": "markdown",
   "metadata": {
    "id": "RpHSIWn5Rck6"
   },
   "source": [
    "We wanted to count up the number of unique words in a file. Our first attempt used lists to keep track of all the unique words we have seen so far"
   ]
  },
  {
   "cell_type": "code",
   "execution_count": 39,
   "metadata": {
    "id": "4cby397fR9EA"
   },
   "outputs": [],
   "source": [
    "def count_unique(file_name):\n",
    "  words = list()  # used this syntax to make a new list instead\n",
    "  with open(file_name) as file:\n",
    "    for line in file.readlines():\n",
    "      for word in line.split():\n",
    "        if word not in words:\n",
    "          words.append(word)\n",
    "  return len(words)"
   ]
  },
  {
   "cell_type": "code",
   "execution_count": 41,
   "metadata": {},
   "outputs": [
    {
     "data": {
      "text/plain": [
       "{1, 2, 3, 4, 5}"
      ]
     },
     "execution_count": 41,
     "metadata": {},
     "output_type": "execute_result"
    }
   ],
   "source": [
    "set([1,2,3,4,4,4,5])\n",
    "\n",
    "#duplicate ones go away.\n",
    "\n"
   ]
  },
  {
   "cell_type": "markdown",
   "metadata": {
    "id": "1GhJUReVSDP1"
   },
   "source": [
    "But found this took too long to run on large files! "
   ]
  },
  {
   "cell_type": "code",
   "execution_count": 42,
   "metadata": {
    "colab": {
     "base_uri": "https://localhost:8080/",
     "height": 68
    },
    "id": "c_VB0rwsSHTr",
    "outputId": "1d311400-b8a3-43aa-a877-51791f2ae987"
   },
   "outputs": [
    {
     "name": "stdout",
     "output_type": "stream",
     "text": [
      "4104\n",
      "CPU times: user 200 ms, sys: 2.18 ms, total: 202 ms\n",
      "Wall time: 201 ms\n"
     ]
    }
   ],
   "source": [
    "%%time #%%time way to see the run time of the cell \n",
    "print(count_unique('bee-movie.txt'))"
   ]
  },
  {
   "cell_type": "code",
   "execution_count": 43,
   "metadata": {
    "colab": {
     "base_uri": "https://localhost:8080/",
     "height": 68
    },
    "id": "-ypiv-SXSIO8",
    "outputId": "1c01457c-cd80-4622-f52d-606cbb201b78"
   },
   "outputs": [
    {
     "name": "stdout",
     "output_type": "stream",
     "text": [
      "CPU times: user 11.2 s, sys: 8.69 ms, total: 11.2 s\n",
      "Wall time: 11.2 s\n"
     ]
    },
    {
     "data": {
      "text/plain": [
       "32553"
      ]
     },
     "execution_count": 43,
     "metadata": {},
     "output_type": "execute_result"
    }
   ],
   "source": [
    "%%time\n",
    "count_unique('mobydick.txt')"
   ]
  },
  {
   "cell_type": "markdown",
   "metadata": {
    "id": "cikS1LHSSoZK"
   },
   "source": [
    "We discussed the algorithm was slowed down by the \"in\" check. For lists, to see if it contains an element, we have to start from the front and go all the way to the end. This can be very slow if it has to iterate over the list every single time for every word in the file.\n",
    "\n",
    "We introduced the idea of a `set` and saw that it greatly improves the performance of our algorithm since it was written to be highly optimized for these membership queries. "
   ]
  },
  {
   "cell_type": "code",
   "execution_count": 47,
   "metadata": {
    "id": "tmgRzuuwl_mf"
   },
   "outputs": [],
   "source": [
    "def count_unique(file_name):\n",
    "  words = set() #only sort distinct value : improves the performance very much\n",
    "  with open(file_name) as file:\n",
    "    for line in file.readlines():\n",
    "      for word in line.split():\n",
    "        words.add(word)\n",
    "  return len(words)"
   ]
  },
  {
   "cell_type": "code",
   "execution_count": 50,
   "metadata": {
    "colab": {
     "base_uri": "https://localhost:8080/",
     "height": 68
    },
    "id": "KU2b8iLv8IPX",
    "outputId": "e0b0b149-5e4e-42a2-f954-a3899eee5dd6"
   },
   "outputs": [
    {
     "name": "stdout",
     "output_type": "stream",
     "text": [
      "4104\n",
      "CPU times: user 5.08 ms, sys: 729 µs, total: 5.81 ms\n",
      "Wall time: 5.22 ms\n"
     ]
    }
   ],
   "source": [
    "%%time\n",
    "print(count_unique('bee-movie.txt')) #can see the major difference between speed : 200ms to 5.31 ms from using set"
   ]
  },
  {
   "cell_type": "code",
   "execution_count": 51,
   "metadata": {
    "colab": {
     "base_uri": "https://localhost:8080/",
     "height": 68
    },
    "id": "696rlLs08Nst",
    "outputId": "d27b9cf1-167d-4ed3-f710-53c0d5773a84"
   },
   "outputs": [
    {
     "name": "stdout",
     "output_type": "stream",
     "text": [
      "CPU times: user 55.4 ms, sys: 3.32 ms, total: 58.7 ms\n",
      "Wall time: 57.9 ms\n"
     ]
    },
    {
     "data": {
      "text/plain": [
       "32553"
      ]
     },
     "execution_count": 51,
     "metadata": {},
     "output_type": "execute_result"
    }
   ],
   "source": [
    "%%time\n",
    "count_unique('mobydick.txt')"
   ]
  },
  {
   "cell_type": "markdown",
   "metadata": {
    "id": "7_hWrK_NnCEO"
   },
   "source": [
    "# Set\n",
    "\n",
    "We also investigate some basic things about sets like how to create them, how to use a \"set comprehension\" much like a list comprehension, and show that you cannot index into a set since they don't have indices."
   ]
  },
  {
   "cell_type": "code",
   "execution_count": 62,
   "metadata": {
    "colab": {
     "base_uri": "https://localhost:8080/",
     "height": 34
    },
    "id": "MZycbSvBnC9c",
    "outputId": "aab71eec-0377-4407-c6dc-952a1a8dcb48"
   },
   "outputs": [
    {
     "name": "stdout",
     "output_type": "stream",
     "text": [
      "{1, 2, 3}\n"
     ]
    }
   ],
   "source": [
    "s = {1, 2 , 3, 2}\n",
    "print(s)"
   ]
  },
  {
   "cell_type": "code",
   "execution_count": 63,
   "metadata": {
    "colab": {
     "base_uri": "https://localhost:8080/",
     "height": 51
    },
    "id": "3o94U2YV-Uhi",
    "outputId": "4bde210c-89f3-4717-92a7-fcaaf163a08a"
   },
   "outputs": [
    {
     "name": "stdout",
     "output_type": "stream",
     "text": [
      "[0, 1, 0, 1, 0, 1, 0, 1, 0, 1, 0, 1, 0, 1, 0, 1, 0, 1, 0, 1]\n",
      "{0, 1}\n"
     ]
    }
   ],
   "source": [
    "list_evens = [x % 2 for x in range(20)]\n",
    "print(list_evens)\n",
    "set_evens = {x % 2 for x in range(20)}\n",
    "print(set_evens)"
   ]
  },
  {
   "cell_type": "code",
   "execution_count": 65,
   "metadata": {
    "colab": {
     "base_uri": "https://localhost:8080/",
     "height": 164
    },
    "id": "B5Yy6ZRo-rEj",
    "outputId": "b351663b-efef-4a72-f6f8-174ba1f4b255"
   },
   "outputs": [
    {
     "ename": "TypeError",
     "evalue": "'set' object is not subscriptable",
     "output_type": "error",
     "traceback": [
      "\u001b[0;31m---------------------------------------------------------------------------\u001b[0m",
      "\u001b[0;31mTypeError\u001b[0m                                 Traceback (most recent call last)",
      "Cell \u001b[0;32mIn [65], line 1\u001b[0m\n\u001b[0;32m----> 1\u001b[0m \u001b[43mset_evens\u001b[49m\u001b[43m[\u001b[49m\u001b[38;5;241;43m1\u001b[39;49m\u001b[43m]\u001b[49m\n\u001b[1;32m      3\u001b[0m \u001b[38;5;66;03m#set doesn't have a index and it just keeps values\u001b[39;00m\n",
      "\u001b[0;31mTypeError\u001b[0m: 'set' object is not subscriptable"
     ]
    }
   ],
   "source": [
    "set_evens[1]\n",
    "\n",
    "#set doesn't have a index and it just keeps values"
   ]
  },
  {
   "cell_type": "code",
   "execution_count": 83,
   "metadata": {},
   "outputs": [
    {
     "name": "stdout",
     "output_type": "stream",
     "text": [
      "(1, 'c')\n",
      "(10, 'c')\n",
      "(1000, 'b')\n"
     ]
    },
    {
     "data": {
      "text/plain": [
       "[(1000, 'b'), (1, 'c'), (10, 'c')]"
      ]
     },
     "execution_count": 83,
     "metadata": {},
     "output_type": "execute_result"
    }
   ],
   "source": [
    "s = set()\n",
    "s.add((1000,\"b\"))\n",
    "s.add((1, \"c\"))\n",
    "\n",
    "s.add((10, \"c\"))\n",
    "s = list(s)\n",
    "\n",
    "for i in s:\n",
    "    print(i)\n",
    "    \n",
    "    \n",
    "sorted(s, key=lambda i: [i[1],i[0]])\n"
   ]
  },
  {
   "cell_type": "markdown",
   "metadata": {
    "id": "rE6IkDvhp8OD"
   },
   "source": [
    "# Dictionaries"
   ]
  },
  {
   "cell_type": "markdown",
   "metadata": {
    "id": "QDAfNgR0WMMH"
   },
   "source": [
    "Our next big data structure is a generalization of a list that allows any type of data for the index (we call them keys). We saw an example below"
   ]
  },
  {
   "cell_type": "code",
   "execution_count": null,
   "metadata": {
    "colab": {
     "base_uri": "https://localhost:8080/",
     "height": 34
    },
    "id": "MD0T132zqCQd",
    "outputId": "8c54a09d-40b8-42df-ca7d-688cfb1686c2"
   },
   "outputs": [],
   "source": [
    "d = dict()  # Makes an empty dictionary\n",
    "d['a'] = 1  # Associates 1 to the key 'a'\n",
    "d['b'] = 2  # Associated 2 to the key 'b'\n",
    "d['z'] = 14\n",
    "d['hello world'] = 5\n",
    "print(d)"
   ]
  },
  {
   "cell_type": "markdown",
   "metadata": {
    "id": "NotT75z9XhTA"
   },
   "source": [
    "You can get the value for a particular key using the indexing syntax. If the key is not present, raises a `KeyError`"
   ]
  },
  {
   "cell_type": "code",
   "execution_count": null,
   "metadata": {
    "colab": {
     "base_uri": "https://localhost:8080/",
     "height": 34
    },
    "id": "fb-stRGJAH0U",
    "outputId": "ccd8341a-7fc6-4a0c-d091-5730129af7b3"
   },
   "outputs": [],
   "source": [
    "print(d['hello world'])  # Gets the value associated to that key"
   ]
  },
  {
   "cell_type": "code",
   "execution_count": null,
   "metadata": {
    "colab": {
     "base_uri": "https://localhost:8080/",
     "height": 164
    },
    "id": "dEqbVHaEXfYG",
    "outputId": "72b00baa-26d9-47b1-af2f-07a3904569bf"
   },
   "outputs": [],
   "source": [
    "print(d['foo'])"
   ]
  },
  {
   "cell_type": "markdown",
   "metadata": {
    "id": "lsTQPbLRXqjY"
   },
   "source": [
    "Keys in a dictionary are unique. If you assign a key that already exists to a new value, it will re-associate that key to the new value rather than adding a second copy of that key in the dictionary. For example, we can change the mapping for 'b':"
   ]
  },
  {
   "cell_type": "code",
   "execution_count": null,
   "metadata": {
    "colab": {
     "base_uri": "https://localhost:8080/",
     "height": 34
    },
    "id": "YPcLXD8uAQ3B",
    "outputId": "fa5a962c-02e5-496a-e64f-98148e41eb12"
   },
   "outputs": [],
   "source": [
    "d['b'] = 1\n",
    "print(d)"
   ]
  },
  {
   "cell_type": "markdown",
   "metadata": {
    "id": "5Wjs1oNqX0ME"
   },
   "source": [
    "Then we saw one last example of building up a dictionary in a loop"
   ]
  },
  {
   "cell_type": "code",
   "execution_count": 2,
   "metadata": {
    "colab": {
     "base_uri": "https://localhost:8080/",
     "height": 34
    },
    "id": "_WjqnpyHp9H0",
    "outputId": "545452f0-8a1a-4682-85ad-30fd06993d41"
   },
   "outputs": [
    {
     "name": "stdout",
     "output_type": "stream",
     "text": [
      "{'I': 1, 'saw': 3, 'a': 1, 'dog': 3, 'today': 5}\n"
     ]
    }
   ],
   "source": [
    "words = ['I', 'saw', 'a', 'dog', 'today']\n",
    "\n",
    "lengths = {}\n",
    "for word in words:\n",
    "  lengths[word] = len(word)\n",
    "  \n",
    "print(lengths)"
   ]
  },
  {
   "cell_type": "markdown",
   "metadata": {
    "id": "D2p9x610X6jp"
   },
   "source": [
    "## Advanced: Dictionary Comprehension\n",
    "You might ask yourself, can I use a comprehension to make a dictionary? The answer is yes! It looks exactly the same as a set comprehension, but you specify key-value pairs."
   ]
  },
  {
   "cell_type": "code",
   "execution_count": 3,
   "metadata": {
    "id": "wHi7taW_YFTu"
   },
   "outputs": [],
   "source": [
    "lengths = {word: len(word) for word in words}"
   ]
  },
  {
   "cell_type": "code",
   "execution_count": null,
   "metadata": {},
   "outputs": [],
   "source": []
  },
  {
   "cell_type": "code",
   "execution_count": null,
   "metadata": {},
   "outputs": [],
   "source": []
  },
  {
   "cell_type": "code",
   "execution_count": null,
   "metadata": {},
   "outputs": [],
   "source": []
  }
 ],
 "metadata": {
  "colab": {
   "collapsed_sections": [],
   "provenance": []
  },
  "kernelspec": {
   "display_name": "dataprogramming_python",
   "language": "python",
   "name": "dataprogramming_python"
  },
  "language_info": {
   "codemirror_mode": {
    "name": "ipython",
    "version": 3
   },
   "file_extension": ".py",
   "mimetype": "text/x-python",
   "name": "python",
   "nbconvert_exporter": "python",
   "pygments_lexer": "ipython3",
   "version": "3.8.2"
  }
 },
 "nbformat": 4,
 "nbformat_minor": 1
}
