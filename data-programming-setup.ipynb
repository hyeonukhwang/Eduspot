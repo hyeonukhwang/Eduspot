{
 "cells": [
  {
   "cell_type": "markdown",
   "id": "38ef061c",
   "metadata": {
    "id": "38ef061c"
   },
   "source": [
    "# Data programming set up document\n",
    "\n",
    "\n",
    "\n",
    "## **Why is Python Essential for Data engineering and Data science?**\n",
    "\n",
    "### - **It’s Flexible**\n",
    " If you want to try something creative that’s never done before; then Python is perfect for you. It’s ideal for developers who want to script applications and websites.\n",
    "\n",
    "\n",
    "### - **It’s Easy to Learn**\n",
    "Thanks to Python’s focus on simplicity and readability, it boasts a gradual and relatively low learning curve. This ease of learning makes Python an ideal tool for beginning programmers. Python offers programmers the advantage of using fewer lines of code to accomplish tasks than one needs when using older languages. In other words, you spend more time playing with it and less time dealing with code. \n",
    "\n",
    "\n",
    "### - **It’s Open Source**\n",
    "Python is open-source, which means it’s free and uses a community-based model for development. Python is designed to run on Windows and Linux environments. Also, it can easily be ported to multiple platforms. There are many open-source Python libraries such as Data manipulation, Data Visualization, Statistics, Mathematics, Machine Learning, and Natural Language Processing, to name just a few (though see below for more about this).\n",
    "\n",
    "\n",
    "### - **It’s Well-Supported**\n",
    "Anything that can go wrong will go wrong, and if you’re using something that you didn’t need to pay for, getting help can be quite a challenge. Fortunately, Python has a large following and is heavily used in academic and industrial circles, which means that there are plenty of useful analytics libraries available. Python users needing help can always turn to Stack Overflow, mailing lists, and user-contributed code and documentation. And the more popular Python becomes, the more users will contribute information on their user experience, and that means more support material is available at no cost. This creates a self-perpetuating spiral of acceptance by a growing number of data analysts and data scientists. No wonder Python’s popularity is increasing!\n",
    "\n",
    "The best way to play with data and learn about data programming is using PYTHON!"
   ]
  },
  {
   "cell_type": "markdown",
   "id": "fnoj8ioFJTNK",
   "metadata": {
    "id": "fnoj8ioFJTNK"
   },
   "source": [
    "https://phoenixnap.com/kb/install-homebrew-on-mac\n"
   ]
  },
  {
   "cell_type": "markdown",
   "id": "77PYAj5_JSD1",
   "metadata": {
    "id": "77PYAj5_JSD1"
   },
   "source": []
  },
  {
   "cell_type": "markdown",
   "id": "P4HFybHsJR9E",
   "metadata": {
    "id": "P4HFybHsJR9E"
   },
   "source": []
  },
  {
   "cell_type": "markdown",
   "id": "9e318dbb",
   "metadata": {
    "id": "9e318dbb"
   },
   "source": [
    "## So how to install python?\n",
    "1. Go to python website and download(https://www.python.org/downloads/macos/)\n",
    "\n",
    "## Then what's next? We need something(a package manager) to help us download all differnet opensource package/modules.\n",
    "\n",
    "1. Install PIP/PIP3\n",
    "\n",
    "2.  If you have homebrew installed in you mac, then \"brew install python\"\n",
    "\n",
    "3. If not, then we can cURL to tranfer a script to install PIP from WEB. \n",
    "     - curl https://bootstrap.pypa.io/get-pip.py -o get-pip.py    \n",
    "     - Then, we need to run this get-pip.py file to install PIP. \"python3 get-pip.py\""
   ]
  },
  {
   "cell_type": "markdown",
   "id": "e4d1211c",
   "metadata": {
    "id": "e4d1211c"
   },
   "source": [
    "\n",
    "\n",
    "### OK, now we have python program installed and also python package mangager installed. What else do we need??\n",
    "\n",
    "1. It would be very useful if we can interact with python to quickly run the code and see the result. \n",
    "\n",
    "2. Let's say we want to test below python function with test values\n",
    "\n",
    "        - test_a = 5\n",
    "        - test_b = 3\n",
    "        - test_mix = 0.5\n"
   ]
  },
  {
   "cell_type": "code",
   "execution_count": null,
   "id": "89c611ed",
   "metadata": {
    "id": "89c611ed",
    "outputId": "dc6f8190-2714-4840-b33c-e54623a71606"
   },
   "outputs": [
    {
     "name": "stdout",
     "output_type": "stream",
     "text": [
      "4.0\n"
     ]
    }
   ],
   "source": [
    "def funky_sum(a, b, mix):\n",
    "    \"\"\"\n",
    "    Returns a mixture between a and b.\n",
    "\n",
    "    If mix is 0, returns a. If mix is 1, returns b. Otherwise returns a linear\n",
    "    interpolation between them. If mix is outside the range of 0 and 1, it is\n",
    "    capped at those numbers.a\n",
    "    \"\"\"\n",
    "    if mix < 0:\n",
    "        return a\n",
    "    elif mix > 1:\n",
    "        return b\n",
    "    else:\n",
    "        return (1 - mix) * a + mix * b\n",
    "\n",
    "test_a = 5\n",
    "test_b = 3\n",
    "test_mix = 0.5\n",
    "print(funky_sum(test_a,test_b,test_mix))\n"
   ]
  },
  {
   "cell_type": "code",
   "execution_count": null,
   "id": "7561843b",
   "metadata": {
    "id": "7561843b",
    "outputId": "691092ec-d4aa-4c27-b097-6b4d02382834"
   },
   "outputs": [
    {
     "name": "stdout",
     "output_type": "stream",
     "text": [
      "4.0\n"
     ]
    }
   ],
   "source": [
    "def funky_sum(a, b, mix):\n",
    "    \"\"\"\n",
    "    Returns a mixture between a and b.\n",
    "\n",
    "    If mix is 0, returns a. If mix is 1, returns b. Otherwise returns a linear\n",
    "    interpolation between them. If mix is outside the range of 0 and 1, it is\n",
    "    capped at those numbers.a\n",
    "    \"\"\"\n",
    "    if mix < 0:\n",
    "        return a\n",
    "    elif mix > 1:\n",
    "        return b\n",
    "    else:\n",
    "        return (1 - mix) * a + mix * b\n",
    "\n",
    "    \n",
    "if __name__ == \"__main__\":\n",
    "    test_a = 5\n",
    "    test_b = 3\n",
    "    test_mix = 0.5\n",
    "    print(funky_sum(test_a,test_b,test_mix))\n"
   ]
  },
  {
   "cell_type": "markdown",
   "id": "3bc47e1b",
   "metadata": {
    "id": "3bc47e1b"
   },
   "source": [
    "### But if it was just written in .py script, then you need to do extra such as \n",
    "\n",
    "1. create main function\n",
    "2. You won't be able to see different result at once!\n",
    "3. **And it is not interactive!!!! It is very useful especially during data science work.**\n"
   ]
  },
  {
   "cell_type": "code",
   "execution_count": null,
   "id": "948c1499",
   "metadata": {
    "id": "948c1499",
    "outputId": "8e06daf0-75e6-4221-ac6b-71b3ae72da2d"
   },
   "outputs": [
    {
     "data": {
      "image/png": "[encoded data removed]",
      "text/plain": [
       "<Figure size 640x480 with 1 Axes>"
      ]
     },
     "metadata": {},
     "output_type": "display_data"
    }
   ],
   "source": [
    "import matplotlib.pyplot as plt\n",
    "plt.plot([1, 2, 3, 4])\n",
    "plt.ylabel('Y axis')\n",
    "plt.xlabel('X axis, change name anytime!!')\n",
    "plt.show()"
   ]
  },
  {
   "cell_type": "markdown",
   "id": "60f9dea2",
   "metadata": {
    "id": "60f9dea2"
   },
   "source": [
    "\n",
    "### And the best part is that you can keep the result visible even after running the other code. \n",
    "\n",
    "\n",
    "\n"
   ]
  },
  {
   "cell_type": "code",
   "execution_count": null,
   "id": "e68d1f98",
   "metadata": {
    "id": "e68d1f98",
    "outputId": "7f00046d-e646-45d9-bdec-a57532900d25"
   },
   "outputs": [
    {
     "name": "stdout",
     "output_type": "stream",
     "text": [
      "test funky_sum1: 3\n",
      "test funky_sum2: 5\n"
     ]
    }
   ],
   "source": [
    "def funky_sum2(a, b, mix):\n",
    "    \"\"\"\n",
    "    Returns a mixture between a and b.\n",
    "\n",
    "    If mix is 1, returns a. If mix is 0, returns b. Otherwise returns a linear\n",
    "    interpolation between them. If mix is outside the range of 0 and 1, it is\n",
    "    capped at those numbers.a\n",
    "    \"\"\"\n",
    "    if mix < 0:\n",
    "        return b\n",
    "    elif mix > 1:\n",
    "        return a\n",
    "    else:\n",
    "        return (1 - mix) * a + mix * b\n",
    "\n",
    "test_a = 5\n",
    "test_b = 3\n",
    "test_mix = 2\n",
    "\n",
    "print('test funky_sum1: {}'.format(funky_sum(test_a,test_b,test_mix)))\n",
    "print('test funky_sum2: {}'.format(funky_sum2(test_a,test_b,test_mix)))"
   ]
  },
  {
   "cell_type": "markdown",
   "id": "1e79ba39",
   "metadata": {
    "id": "1e79ba39"
   },
   "source": [
    "\n",
    "### How to install jupyter notebook? Two different ways\n",
    "\n",
    "1. Use Anaconda\n",
    "2. Use jupyter notebook\n"
   ]
  },
  {
   "cell_type": "markdown",
   "id": "4fa48ae4",
   "metadata": {
    "id": "4fa48ae4"
   },
   "source": [
    "\n",
    "### In this lesson, we will use jupyter notebook as it is to help us learn about how to manage the packages and set up working environment in more depth and keep you guys more familiar with the professional working environment.\n",
    "\n",
    "Either \n",
    "1. Using pip\n",
    "    - pip3 install jupyter\n",
    "2. Using curl\n",
    "    - curl https://files.pythonhosted.org/packages/c9/a9/371d0b8fe37dd231cf4b2cff0a9f0f25e98f3a73c3771742444be27f2944/jupyter-1.0.0.tar.gz > jupyter.tar.gz\n",
    "    - tar -xzvf jupyter.tar.gz\n",
    "    - cd jupyter-1.0.0\n",
    "    - python3 setup.py install\n",
    "\n",
    "3. Then, run the jupyter notebook by running \"jupyter notebook\"\n",
    "\n",
    "4. But you might encounter an error if no path is specified for the jupyter.\n",
    "\n",
    "\n",
    "### For today, to avoid all the unnecessary work, let's use HOMEBREW!\n",
    "\n",
    "1. Install Homebrew - https://phoenixnap.com/kb/install-homebrew-on-mac\n",
    "    - /bin/bash -c \"$(curl -fsSL https://raw.githubusercontent.com/Homebrew/install/master/install.sh)\"\n",
    "    \n",
    "2. **Then, now you're ready to install jupyter notebook using homebrew!**\n",
    "    - brew install jupyter\n",
    "\n",
    "### Finally, let's run jupyter notebook by running \"jupyter notebook\" on your terminal."
   ]
  },
  {
   "cell_type": "markdown",
   "id": "80ae1557",
   "metadata": {
    "id": "80ae1557"
   },
   "source": [
    "\n",
    "## HOLD UP!\n",
    "\n",
    "### One last set up before staring our data programming lessons~!\n",
    "\n",
    "As you work on different projects, you will encounter the necessity to install and work with different versions of modules for differnet projects.\n",
    "\n",
    "**virtualenv allows you to create separate environment and manage packages for different projects.**\n"
   ]
  },
  {
   "cell_type": "markdown",
   "id": "5690930f",
   "metadata": {
    "id": "5690930f"
   },
   "source": [
    "\n",
    "### Let's use PIP to install it as we've just installed it!\n",
    "\n",
    "1. pip3 install virtualenv\n",
    "\n",
    "Once virtualenv is installed, we can set up separate environment for different projects.\n",
    "\n",
    "Let's set up a virtual environment for data_programming projects.\n",
    "\n",
    "\n",
    "1.  First run the following command to create an virtual environment\n",
    "    - python3 -m venv dataprogramming_python\n",
    "\n",
    "\n",
    "2. In order to activate the virtual environment, run the following command\n",
    "    - source virtual-environment-name/bin/activate\n",
    "\n",
    "\n",
    "3. Now let's check if it is activated. Run the following command. There should be only two packages installed.\n",
    "    - pip list\n",
    "\n",
    "\n",
    "4. Now install all the necessary package using pip command\n",
    "    - example) pip3 install numpy\n"
   ]
  },
  {
   "cell_type": "markdown",
   "id": "2e4bea87",
   "metadata": {
    "id": "2e4bea87"
   },
   "source": [
    "## One last TIPs before you move on to real projects!\n",
    "\n",
    "### How to get the list of installed packages? And why do we need it?\n",
    "\n",
    "As we move on to the other project, we might need to share all the dependencies and packages to your teammates, if you can share a document that contains all the dependencies and if your teammate can install them at once, it will be much efficient.\n",
    "\n",
    "We can use the following command to get the list of installed packatged with name \"requirements.txt\"\n",
    "\n",
    "1. pip freeze > requirements.txt\n",
    "\n",
    "Then we can use the following command to install all the packages in requirements.txt\n",
    "\n",
    "2. pip install -r requirements.txt\n",
    "\n",
    "To deactivate the virtual environment\n",
    "\n",
    "3. deactivate\n",
    "## Now we're ready to start any project and set up the environment at each needs"
   ]
  },
  {
   "cell_type": "markdown",
   "id": "0e243974",
   "metadata": {
    "id": "0e243974"
   },
   "source": [
    "## Notes for future\n",
    "\n",
    "1. Running jupyter on venv and setting the kernel\n",
    "    - https://www.geeksforgeeks.org/using-jupyter-notebook-in-virtual-environment/"
   ]
  },
  {
   "cell_type": "markdown",
   "id": "ddd09a7a",
   "metadata": {
    "id": "bf7fd07c"
   },
   "source": [
    "* cd : click, command to go to that directory\n",
    "* ls: location and shows the file within that location\n",
    "* source: double click"
   ]
  }
 ],
 "metadata": {
  "colab": {
   "collapsed_sections": [],
   "provenance": []
  },
  "kernelspec": {
   "display_name": "dataprogramming_python",
   "language": "python",
   "name": "dataprogramming_python"
  },
  "language_info": {
   "codemirror_mode": {
    "name": "ipython",
    "version": 3
   },
   "file_extension": ".py",
   "mimetype": "text/x-python",
   "name": "python",
   "nbconvert_exporter": "python",
   "pygments_lexer": "ipython3",
   "version": "3.8.2"
  }
 },
 "nbformat": 4,
 "nbformat_minor": 5
}
